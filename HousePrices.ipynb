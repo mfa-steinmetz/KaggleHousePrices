{
 "cells": [
  {
   "cell_type": "code",
   "execution_count": 1,
   "id": "ce092eea",
   "metadata": {
    "scrolled": false
   },
   "outputs": [],
   "source": [
    "import pandas as pd\n",
    "import numpy as np\n",
    "import copy\n",
    "\n",
    "import matplotlib.pyplot as plt\n",
    "\n",
    "import seaborn as sns\n",
    "sns.set_theme()\n",
    "sns.set_palette(sns.color_palette(['#851836', '#edbd17']))\n",
    "sns.set_style(\"darkgrid\")\n",
    "\n",
    "from sklearn.linear_model import LinearRegression\n",
    "from sklearn.svm import SVR\n",
    "from sklearn.neighbors import KNeighborsRegressor\n",
    "from sklearn.gaussian_process import GaussianProcessRegressor\n",
    "from sklearn.tree import DecisionTreeRegressor\n",
    "from sklearn.ensemble import RandomForestRegressor\n",
    "from sklearn.ensemble import ExtraTreesRegressor\n",
    "from sklearn.ensemble import AdaBoostClassifier\n",
    "from sklearn.ensemble import GradientBoostingRegressor\n",
    "\n",
    "import xgboost as xgb\n",
    "\n",
    "from sklearn.model_selection import cross_val_score\n",
    "from sklearn.preprocessing import StandardScaler\n",
    "#from sklearn.preprocessing import OneHotEncoder\n",
    "from sklearn.preprocessing import PolynomialFeatures\n",
    "\n",
    "from sklearn.model_selection import learning_curve\n",
    "from sklearn.model_selection import GridSearchCV\n",
    "\n",
    "from sklearn.impute import SimpleImputer\n",
    "\n",
    "\n",
    "\n",
    "TrainDataFrame = pd.read_csv('data/train.csv')\n",
    "TestDataFrame = pd.read_csv('data/test.csv')\n",
    "\n",
    "train_df = copy.deepcopy(TrainDataFrame)\n",
    "test_df = copy.deepcopy(TestDataFrame)\n",
    "\n",
    "pd.options.display.max_columns = 1000\n",
    "pd.options.display.max_rows = 1000\n",
    "\n",
    "y = train_df['SalePrice']\n",
    "train_df.drop(['SalePrice'], axis = 1, inplace = True)\n",
    "\n",
    "categorical_columns = train_df.columns[train_df.dtypes == 'object']\n",
    "numerical_float_columns = train_df.columns[train_df.dtypes == 'float64']\n",
    "numerical_int_columns = train_df.columns[train_df.dtypes == 'int64']"
   ]
  },
  {
   "cell_type": "code",
   "execution_count": 2,
   "id": "864557a9",
   "metadata": {},
   "outputs": [
    {
     "data": {
      "text/plain": [
       "(1460, 289)"
      ]
     },
     "execution_count": 2,
     "metadata": {},
     "output_type": "execute_result"
    }
   ],
   "source": [
    "imp_most_freq = SimpleImputer(strategy = 'most_frequent')\n",
    "imp_median = SimpleImputer(strategy = 'median')\n",
    "imp_mean = SimpleImputer(strategy = 'mean')\n",
    "\n",
    "\n",
    "#We will fix all NAs.\n",
    "\n",
    "train_df[numerical_float_columns] = imp_mean.fit_transform(train_df[numerical_float_columns])\n",
    "test_df[numerical_float_columns] = imp_mean.transform(test_df[numerical_float_columns])\n",
    "\n",
    "train_df[numerical_int_columns] = imp_median.fit_transform(train_df[numerical_int_columns])\n",
    "test_df[numerical_int_columns] = imp_median.transform(test_df[numerical_int_columns])\n",
    "\n",
    "train_df[categorical_columns] = imp_most_freq.fit_transform(train_df[categorical_columns])\n",
    "test_df[categorical_columns] = imp_most_freq.transform(test_df[categorical_columns])\n",
    "\n",
    "train_df_select = train_df[numerical_float_columns.append(numerical_int_columns)]\n",
    "test_df_select = test_df[numerical_float_columns.append(numerical_int_columns)]\n",
    "\n",
    "\n",
    "# # Let us see if adding Polynomial Features improves the outcomes.\n",
    "\n",
    "# poly_ftrs = PolynomialFeatures(degree = 2, interaction_only = True)\n",
    "# poly_array1 = poly_ftrs.fit_transform(train_df_select)\n",
    "\n",
    "# train_df_select = pd.DataFrame(poly_array1, columns=poly_ftrs.get_feature_names_out(train_df_select.columns))\n",
    "\n",
    "# poly_array2 = poly_ftrs.fit_transform(test_df_select)\n",
    "# test_df_select = pd.DataFrame(poly_array2, columns=poly_ftrs.get_feature_names_out(test_df_select.columns))\n",
    "\n",
    "# # Adding polynomial features seems to make the model perform worse.\n",
    "\n",
    "\n",
    "# One Hot Encoding categorical features\n",
    "\n",
    "train_df_select = train_df_select.join(pd.get_dummies(train_df[categorical_columns]))\n",
    "test_df_select = test_df_select.join(pd.get_dummies(test_df[categorical_columns]))\n",
    "\n",
    "#Fix missing cols in test set\n",
    "missing_cols = set(train_df_select.columns) - set(test_df_select.columns)\n",
    "for c in missing_cols:\n",
    "    test_df_select[c] = 0\n",
    "    \n",
    "#Ensure order is the same in train and test sets\n",
    "test_df_select = test_df_select[train_df_select.columns]\n",
    "\n",
    "\n",
    "####\n",
    "\n",
    "std_scle = StandardScaler()\n",
    "train_df_select_scaled = std_scle.fit_transform(train_df_select)\n",
    "test_df_select_scaled = std_scle.transform(test_df_select)\n",
    "\n",
    "###\n",
    "\n",
    "train_df_select.shape"
   ]
  },
  {
   "cell_type": "raw",
   "id": "64bf8891",
   "metadata": {},
   "source": [
    "models = [\n",
    "    ('lin_reg', LinearRegression()),\n",
    "    ('svr', SVR()),\n",
    "    ('k_nbrs_reg', KNeighborsRegressor()),\n",
    "    ('gaussian_reg', GaussianProcessRegressor()),\n",
    "    ('dec_tr_reg', DecisionTreeRegressor()),\n",
    "    ('rnd_for_reg', RandomForestRegressor()),\n",
    "    ('extr_tr_reg', ExtraTreesRegressor()),\n",
    "    ('ada_bst_reg', AdaBoostClassifier()),\n",
    "    ('grd_bst_reg', GradientBoostingRegressor())\n",
    "]\n",
    "\n",
    "scoring = 'neg_mean_squared_error'\n",
    "\n",
    "results = []\n",
    "\n",
    "for model in models:\n",
    "    \n",
    "    results.append(\n",
    "        (model[0],\n",
    "           np.sqrt(\n",
    "               -cross_val_score(\n",
    "                model[1],\n",
    "                train_df_select_scaled,\n",
    "                y,\n",
    "                cv = 5,\n",
    "                scoring = scoring\n",
    "                ).mean()\n",
    "           )\n",
    "        )\n",
    "    )\n",
    "    \n",
    "sorted(results, key = lambda x: x[1])\n",
    "\n",
    "# After running this code we notice GradientBoostingRegressor() performs best."
   ]
  },
  {
   "cell_type": "code",
   "execution_count": 3,
   "id": "a663b2e8",
   "metadata": {
    "scrolled": true
   },
   "outputs": [
    {
     "name": "stdout",
     "output_type": "stream",
     "text": [
      "0.12865205495740994\n"
     ]
    },
    {
     "data": {
      "image/png": "[encoded data removed]",
      "text/plain": [
       "<Figure size 432x288 with 1 Axes>"
      ]
     },
     "metadata": {},
     "output_type": "display_data"
    },
    {
     "data": {
      "text/plain": [
       "<Figure size 16000x16000 with 0 Axes>"
      ]
     },
     "metadata": {},
     "output_type": "display_data"
    }
   ],
   "source": [
    "# Let us print cross-validation scores and learning curves for the best model found above.\n",
    "\n",
    "reg = GradientBoostingRegressor()\n",
    "\n",
    "train_sizes = np.linspace(0.01, 1, num = 10)\n",
    "train_sizes_abs, train_scores, test_scores = learning_curve(\n",
    "    reg,\n",
    "    train_df_select_scaled,\n",
    "    y,\n",
    "    train_sizes = train_sizes,\n",
    "    scoring = \"neg_mean_squared_log_error\",\n",
    "    cv = 10\n",
    ")\n",
    "\n",
    "plt.plot(\n",
    "    train_sizes_abs,\n",
    "    np.sqrt(-test_scores.mean(1)),\n",
    "    \"o-\",\n",
    "    color = \"b\",\n",
    "    label = \"TestScores\"\n",
    ")\n",
    "plt.plot(\n",
    "    train_sizes_abs,\n",
    "    np.sqrt(-train_scores.mean(1)),\n",
    "    \"o-\",\n",
    "    color = \"r\",\n",
    "    label = \"TrainScores\"\n",
    ")\n",
    "plt.xlabel(\"Train size\")\n",
    "plt.xlim((0, 1400))\n",
    "plt.ylabel(\"Root Mean Squared Log Error\")\n",
    "plt.title(\"Learning Curves\")\n",
    "plt.legend()\n",
    "\n",
    "plt.figure(figsize = (20, 20), dpi = 800)\n",
    "\n",
    "print(np.sqrt(-test_scores.mean(1)[len(test_scores)-1]))\n",
    "\n",
    "plt.show()"
   ]
  },
  {
   "cell_type": "code",
   "execution_count": 4,
   "id": "7fe6d16d",
   "metadata": {},
   "outputs": [],
   "source": [
    "# We use the best model to make predictions on the test set and export these to a csv-file.\n",
    "\n",
    "reg = GradientBoostingRegressor()\n",
    "reg.fit(train_df_select_scaled, y)\n",
    "\n",
    "y_pred = reg.predict(test_df_select_scaled)\n",
    "\n",
    "export = pd.DataFrame(test_df['Id'])\n",
    "export['SalePrice'] = y_pred\n",
    "export['Id'] = export['Id'].astype('int')\n",
    "export.to_csv('HousePrices.csv', index = False)"
   ]
  }
 ],
 "metadata": {
  "kernelspec": {
   "display_name": "Python 3 (ipykernel)",
   "language": "python",
   "name": "python3"
  },
  "language_info": {
   "codemirror_mode": {
    "name": "ipython",
    "version": 3
   },
   "file_extension": ".py",
   "mimetype": "text/x-python",
   "name": "python",
   "nbconvert_exporter": "python",
   "pygments_lexer": "ipython3",
   "version": "3.8.10"
  }
 },
 "nbformat": 4,
 "nbformat_minor": 5
}
